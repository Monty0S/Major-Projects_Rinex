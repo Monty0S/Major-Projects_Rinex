{
  "nbformat": 4,
  "nbformat_minor": 0,
  "metadata": {
    "colab": {
      "name": "Major_Project-2.ipynb",
      "provenance": [],
      "collapsed_sections": []
    },
    "kernelspec": {
      "name": "python3",
      "display_name": "Python 3"
    },
    "language_info": {
      "name": "python"
    }
  },
  "cells": [
    {
      "cell_type": "code",
      "execution_count": 2,
      "metadata": {
        "id": "Q9HUYcpesvQ4"
      },
      "outputs": [],
      "source": [
        "# Press 'X' to end the program and press 'Enter' to capture the momemnt\n",
        "\n",
        "import cv2\n",
        "\n",
        "cam = cv2.VideoCapture(0)\n",
        "face_cascade = cv2.CascadeClassifier(cv2.data.haarcascades + 'haarcascade_frontalface_default.xml')\n",
        "\n",
        "while True:\n",
        "    ret,frame = cam.read() ##We are reading the data from the cam variable\n",
        "    if(type(frame) == type(None)):\n",
        "        break\n",
        "\n",
        "    gray = cv2.cvtColor(frame,cv2.COLOR_BGR2GRAY)\n",
        "\n",
        "    faces = face_cascade.detectMultiScale(gray,1.1,1)\n",
        "\n",
        "    for(x,y,w,h) in faces:\n",
        "        cv2.rectangle(frame,(x,y),(x+w,y+h),(200,255,0),4)\n",
        "\n",
        "    cv2.imshow('My web Cam',frame)\n",
        "\n",
        "    if cv2.waitKey(1) == 13: #This saves a picture of the moment when you press enter\n",
        "        cv2.imwrite(\"CamShot.png\", frame)\n",
        "    elif cv2.waitKey(1) == ord('x'): #This ends the process\n",
        "        break       \n",
        "cam.release()\n",
        "cv2.destroyAllWindows()\n"
      ]
    }
  ]
}